{
  "cells": [
    {
      "cell_type": "markdown",
      "metadata": {},
      "source": [
        "# SIIM-ACR Pneumothorax – YOLO11 Segmentation Explorer"
      ]
    },
    {
      "cell_type": "markdown",
      "metadata": {},
      "source": [
        "Use this notebook to rebuild the processed YOLO dataset, inspect random training examples, and run quick sanity checks on trained weights. The heavy lifting is handled by the utilities in `src/`."
      ]
    },
    {
      "cell_type": "code",
      "execution_count": null,
      "metadata": {},
      "outputs": [],
      "source": [
        "from pathlib import Path\n",
        "import random\n",
        "\n",
        "import cv2\n",
        "import matplotlib.pyplot as plt\n",
        "import numpy as np\n",
        "import pandas as pd\n",
        "from PIL import Image\n",
        "\n",
        "from src.dataset_prep import DatasetConfig, Yolo11SegmentationDatasetBuilder\n",
        "from src import paths\n",
        "\n",
        "paths.ensure_directories()\n",
        "plt.style.use('ggplot')\n"
      ]
    },
    {
      "cell_type": "code",
      "execution_count": null,
      "metadata": {},
      "outputs": [],
      "source": [
        "# Rebuild (or reuse) the processed YOLO dataset\n",
        "config = DatasetConfig()\n",
        "builder = Yolo11SegmentationDatasetBuilder(config)\n",
        "dataset_yaml = builder.prepare()\n",
        "dataset_yaml\n"
      ]
    },
    {
      "cell_type": "code",
      "execution_count": null,
      "metadata": {},
      "outputs": [],
      "source": [
        "def yolo_labels_to_mask(label_path: Path, width: int, height: int) -> np.ndarray:\n",
        "    mask = np.zeros((height, width), dtype=np.uint8)\n",
        "    if not label_path.exists():\n",
        "        return mask\n",
        "    with open(label_path, 'r', encoding='utf-8') as handle:\n",
        "        for line in handle:\n",
        "            parts = line.strip().split()\n",
        "            if len(parts) < 7:\n",
        "                continue\n",
        "            coords = np.array([float(v) for v in parts[1:]], dtype=np.float32).reshape(-1, 2)\n",
        "            coords[:, 0] *= width\n",
        "            coords[:, 1] *= height\n",
        "            polygon = coords.astype(np.int32)\n",
        "            cv2.fillPoly(mask, [polygon], 1)\n",
        "    return mask\n",
        "\n",
        "def sample_training_example(subset: str = 'train'):\n",
        "    images_dir = paths.PROCESSED_DIR / 'images' / subset\n",
        "    labels_dir = paths.PROCESSED_DIR / 'labels' / subset\n",
        "\n",
        "    positive_ids = []\n",
        "    for label_file in labels_dir.glob('*.txt'):\n",
        "        if label_file.read_text(encoding='utf-8').strip():\n",
        "            positive_ids.append(label_file.stem)\n",
        "    if not positive_ids:\n",
        "        raise RuntimeError('No positive masks were found in the processed dataset.')\n",
        "    image_id = random.choice(positive_ids)\n",
        "    image = np.array(Image.open(images_dir / f'{image_id}.png').convert('L'))\n",
        "    mask = yolo_labels_to_mask(labels_dir / f'{image_id}.txt', image.shape[1], image.shape[0])\n",
        "    return image_id, image, mask\n",
        "\n",
        "image_id, image, mask = sample_training_example('train')\n",
        "fig, axes = plt.subplots(1, 3, figsize=(18, 6))\n",
        "axes[0].imshow(image, cmap='gray')\n",
        "axes[0].set_title(f'Original {image_id}')\n",
        "axes[0].axis('off')\n",
        "axes[1].imshow(mask, cmap='gray')\n",
        "axes[1].set_title('Binary Mask')\n",
        "axes[1].axis('off')\n",
        "axes[2].imshow(image, cmap='gray')\n",
        "axes[2].imshow(np.ma.masked_where(mask == 0, mask), alpha=0.4, cmap='autumn')\n",
        "axes[2].set_title('Overlay')\n",
        "axes[2].axis('off')\n",
        "plt.tight_layout()\n",
        "plt.show()\n"
      ]
    },
    {
      "cell_type": "code",
      "execution_count": null,
      "metadata": {},
      "outputs": [],
      "source": [
        "# Optional: run inference with trained weights once available\n",
        "weights_dir = paths.PROJECT_ROOT / 'artifacts' / 'runs'\n",
        "best_weights = next(weights_dir.glob('**/weights/best.pt'), None) if weights_dir.exists() else None\n",
        "if best_weights is not None:\n",
        "    from ultralytics import YOLO\n",
        "    test_dir = paths.PROCESSED_DIR / 'images' / 'test'\n",
        "    sample_image = next(test_dir.glob('*.png'))\n",
        "    model = YOLO(best_weights)\n",
        "    result = model.predict(source=sample_image.as_posix(), imgsz=1024, conf=0.25, device='0', verbose=False)[0]\n",
        "    mask = result.masks.data.cpu().numpy().sum(axis=0) > 0.5 if result.masks is not None else None\n",
        "    plt.figure(figsize=(6, 6))\n",
        "    plt.imshow(Image.open(sample_image).convert('L'), cmap='gray')\n",
        "    if mask is not None:\n",
        "        plt.imshow(np.ma.masked_where(~mask, mask), alpha=0.4, cmap='autumn')\n",
        "    plt.title(f'Inference preview: {sample_image.stem}')\n",
        "    plt.axis('off')\n",
        "else:\n",
        "    print('No trained weights found yet. Train a model with src/train.py first.')\n"
      ]
    }
  ],
  "metadata": {
    "kernelspec": {
      "display_name": "Python 3",
      "language": "python",
      "name": "python3"
    },
    "language_info": {
      "name": "python",
      "pygments_lexer": "ipython3"
    }
  },
  "nbformat": 4,
  "nbformat_minor": 5
}
